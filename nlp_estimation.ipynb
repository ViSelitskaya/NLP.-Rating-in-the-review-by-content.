{
 "cells": [
  {
   "cell_type": "markdown",
   "id": "4d35f4d1",
   "metadata": {},
   "source": [
    "# NLP. Определение оценки отзыва по содержанию."
   ]
  },
  {
   "cell_type": "markdown",
   "id": "643110e3",
   "metadata": {},
   "source": [
    "Нам предоставленны данные, содержащие отзывы и оценки разных банков. Наша задача стоит в том, чтобы модель обучилась предсказывать оценку, от 1 до 5, по содержанию отзыва."
   ]
  },
  {
   "cell_type": "markdown",
   "id": "a342a132",
   "metadata": {},
   "source": [
    "## Обзор данных."
   ]
  },
  {
   "cell_type": "code",
   "execution_count": 1,
   "id": "27c3ba55-38df-4b40-80ff-f7d119e65e35",
   "metadata": {},
   "outputs": [],
   "source": [
    "import pandas as pd\n",
    "import numpy as np\n",
    "import re\n",
    "\n",
    "from sklearn.feature_extraction.text import TfidfVectorizer\n",
    "from sklearn.utils import shuffle\n",
    "from sklearn.model_selection import train_test_split\n",
    "from sklearn.metrics import f1_score\n",
    "\n",
    "from sklearn.linear_model import LogisticRegression"
   ]
  },
  {
   "cell_type": "code",
   "execution_count": 2,
   "id": "1acd14e9-b298-4379-a327-c4cd57b19efd",
   "metadata": {},
   "outputs": [],
   "source": [
    "data = pd.read_csv('C:/Users/vseli/Downloads/hse-nlp-bootcamp/train_ml.csv')"
   ]
  },
  {
   "cell_type": "code",
   "execution_count": 3,
   "id": "aee0801e",
   "metadata": {},
   "outputs": [
    {
     "data": {
      "text/html": [
       "<div>\n",
       "<style scoped>\n",
       "    .dataframe tbody tr th:only-of-type {\n",
       "        vertical-align: middle;\n",
       "    }\n",
       "\n",
       "    .dataframe tbody tr th {\n",
       "        vertical-align: top;\n",
       "    }\n",
       "\n",
       "    .dataframe thead th {\n",
       "        text-align: right;\n",
       "    }\n",
       "</style>\n",
       "<table border=\"1\" class=\"dataframe\">\n",
       "  <thead>\n",
       "    <tr style=\"text-align: right;\">\n",
       "      <th></th>\n",
       "      <th>bank</th>\n",
       "      <th>feeds</th>\n",
       "      <th>grades</th>\n",
       "      <th>date</th>\n",
       "    </tr>\n",
       "  </thead>\n",
       "  <tbody>\n",
       "    <tr>\n",
       "      <th>0</th>\n",
       "      <td>ubrr</td>\n",
       "      <td>Много лет являюсь клиентом этого банка, но пос...</td>\n",
       "      <td>1.0</td>\n",
       "      <td>16.02.2017 16:10</td>\n",
       "    </tr>\n",
       "    <tr>\n",
       "      <th>1</th>\n",
       "      <td>fk_otkritie</td>\n",
       "      <td>Г. Ростов-на-Дону, ул. Ленина, 48. Были 10.12....</td>\n",
       "      <td>2.0</td>\n",
       "      <td>13.12.2016 1:05</td>\n",
       "    </tr>\n",
       "    <tr>\n",
       "      <th>2</th>\n",
       "      <td>alfabank</td>\n",
       "      <td>Здравствуйте!Ранее уже оставлял отзыв о вашем ...</td>\n",
       "      <td>NaN</td>\n",
       "      <td>28.06.2019 13:54</td>\n",
       "    </tr>\n",
       "    <tr>\n",
       "      <th>3</th>\n",
       "      <td>vtb</td>\n",
       "      <td>Обращаюсь к Вам с жалобой на незаконное списан...</td>\n",
       "      <td>NaN</td>\n",
       "      <td>15.07.2020 14:54</td>\n",
       "    </tr>\n",
       "    <tr>\n",
       "      <th>4</th>\n",
       "      <td>promsvyazbank</td>\n",
       "      <td>Имею потребительский кредит, взятый в Связь-ба...</td>\n",
       "      <td>2.0</td>\n",
       "      <td>04.08.2020 6:38</td>\n",
       "    </tr>\n",
       "  </tbody>\n",
       "</table>\n",
       "</div>"
      ],
      "text/plain": [
       "            bank                                              feeds  grades  \\\n",
       "0           ubrr  Много лет являюсь клиентом этого банка, но пос...     1.0   \n",
       "1    fk_otkritie  Г. Ростов-на-Дону, ул. Ленина, 48. Были 10.12....     2.0   \n",
       "2       alfabank  Здравствуйте!Ранее уже оставлял отзыв о вашем ...     NaN   \n",
       "3            vtb  Обращаюсь к Вам с жалобой на незаконное списан...     NaN   \n",
       "4  promsvyazbank  Имею потребительский кредит, взятый в Связь-ба...     2.0   \n",
       "\n",
       "               date  \n",
       "0  16.02.2017 16:10  \n",
       "1   13.12.2016 1:05  \n",
       "2  28.06.2019 13:54  \n",
       "3  15.07.2020 14:54  \n",
       "4   04.08.2020 6:38  "
      ]
     },
     "execution_count": 3,
     "metadata": {},
     "output_type": "execute_result"
    }
   ],
   "source": [
    "data.head()"
   ]
  },
  {
   "cell_type": "code",
   "execution_count": 4,
   "id": "b93a4786",
   "metadata": {},
   "outputs": [
    {
     "data": {
      "text/plain": [
       "bank          0\n",
       "feeds         0\n",
       "grades    23524\n",
       "date          0\n",
       "dtype: int64"
      ]
     },
     "execution_count": 4,
     "metadata": {},
     "output_type": "execute_result"
    }
   ],
   "source": [
    "data.isna().sum()"
   ]
  },
  {
   "cell_type": "code",
   "execution_count": 5,
   "id": "bc3e199d-5b14-446a-8057-ccbc4912e1c5",
   "metadata": {},
   "outputs": [
    {
     "data": {
      "text/plain": [
       "bank      0\n",
       "feeds     0\n",
       "grades    0\n",
       "date      0\n",
       "dtype: int64"
      ]
     },
     "execution_count": 5,
     "metadata": {},
     "output_type": "execute_result"
    }
   ],
   "source": [
    "data = data.dropna()\n",
    "data.isna().sum()"
   ]
  },
  {
   "cell_type": "code",
   "execution_count": 6,
   "id": "6dd4fb0f-911b-41c6-9a1d-5c00d3b5acf2",
   "metadata": {},
   "outputs": [],
   "source": [
    "data['feeds'] = data['feeds'].str.lower()"
   ]
  },
  {
   "cell_type": "code",
   "execution_count": 7,
   "id": "1b6efe95",
   "metadata": {},
   "outputs": [
    {
     "name": "stdout",
     "output_type": "stream",
     "text": [
      "<class 'pandas.core.frame.DataFrame'>\n",
      "Int64Index: 51476 entries, 0 to 74999\n",
      "Data columns (total 4 columns):\n",
      " #   Column  Non-Null Count  Dtype  \n",
      "---  ------  --------------  -----  \n",
      " 0   bank    51476 non-null  object \n",
      " 1   feeds   51476 non-null  object \n",
      " 2   grades  51476 non-null  float64\n",
      " 3   date    51476 non-null  object \n",
      "dtypes: float64(1), object(3)\n",
      "memory usage: 2.0+ MB\n"
     ]
    }
   ],
   "source": [
    "data.info()"
   ]
  },
  {
   "cell_type": "markdown",
   "id": "d589e8d1-fd15-49c8-baba-97a7fd85615c",
   "metadata": {},
   "source": [
    "## Подготовка данных для обучения модели."
   ]
  },
  {
   "cell_type": "code",
   "execution_count": 8,
   "id": "a48bf1a4-1ce6-4629-ba84-1d47475850bd",
   "metadata": {},
   "outputs": [],
   "source": [
    "def clear_text(text):\n",
    "    clear_text = re.sub(r'[^а-яА-ЯёЁ ]', ' ', text)\n",
    "    clear_text = clear_text.split()\n",
    "    clear_text = \" \".join(clear_text)\n",
    "    return clear_text"
   ]
  },
  {
   "cell_type": "code",
   "execution_count": 9,
   "id": "479e8aea-c859-4e46-a026-0cea4c80a087",
   "metadata": {},
   "outputs": [],
   "source": [
    "data['feeds'] = data['feeds'].apply(str)\n",
    "data['feeds'] = data.feeds.apply(clear_text)"
   ]
  },
  {
   "cell_type": "code",
   "execution_count": 10,
   "id": "f5eee567",
   "metadata": {},
   "outputs": [],
   "source": [
    "features_train = data['feeds']"
   ]
  },
  {
   "cell_type": "code",
   "execution_count": 11,
   "id": "597cd943",
   "metadata": {},
   "outputs": [
    {
     "data": {
      "text/plain": [
       "0        много лет являюсь клиентом этого банка но посл...\n",
       "1        г ростов на дону ул ленина были г с часов до в...\n",
       "4        имею потребительский кредит взятый в связь бан...\n",
       "7        хочу выразить глубокую благодарность всем сотр...\n",
       "8        марта г в при проходе в метро курская по социа...\n",
       "                               ...                        \n",
       "74995    три года длится эпопея с закрытием кредитной к...\n",
       "74996    являлся клиентом бинбанка пока после слияния н...\n",
       "74997    мая г мною вносились деньги на банковскую карт...\n",
       "74998    здравствуйте сегодня захожу в мобильный банк а...\n",
       "74999    уважаемое руководство банка если все услуги ва...\n",
       "Name: feeds, Length: 51476, dtype: object"
      ]
     },
     "execution_count": 11,
     "metadata": {},
     "output_type": "execute_result"
    }
   ],
   "source": [
    "features_train"
   ]
  },
  {
   "cell_type": "code",
   "execution_count": 12,
   "id": "117ccfa5",
   "metadata": {},
   "outputs": [],
   "source": [
    "target_train = data['grades']"
   ]
  },
  {
   "cell_type": "code",
   "execution_count": 13,
   "id": "0dedd5e8",
   "metadata": {},
   "outputs": [],
   "source": [
    "features_train,features_valid,target_train,target_valid = train_test_split(features_train,target_train,test_size=0.2)"
   ]
  },
  {
   "cell_type": "code",
   "execution_count": 14,
   "id": "41073968-8515-46d4-97a3-b082add50c8b",
   "metadata": {},
   "outputs": [],
   "source": [
    "vec = TfidfVectorizer(ngram_range=(2, 2)) # используем уни-, биграммы\n",
    "features_train = vec.fit_transform(features_train)\n",
    "features_valid = vec.transform(features_valid)"
   ]
  },
  {
   "cell_type": "code",
   "execution_count": 15,
   "id": "afb94931",
   "metadata": {},
   "outputs": [
    {
     "data": {
      "text/plain": [
       "<10296x2254189 sparse matrix of type '<class 'numpy.float64'>'\n",
       "\twith 1151271 stored elements in Compressed Sparse Row format>"
      ]
     },
     "execution_count": 15,
     "metadata": {},
     "output_type": "execute_result"
    }
   ],
   "source": [
    "features_valid"
   ]
  },
  {
   "cell_type": "markdown",
   "id": "60a54b8f",
   "metadata": {},
   "source": [
    "## Обучение моделей."
   ]
  },
  {
   "cell_type": "markdown",
   "id": "c4e6e141",
   "metadata": {},
   "source": [
    "__Логистическая регрессия__"
   ]
  },
  {
   "cell_type": "code",
   "execution_count": 16,
   "id": "bb93a6e5",
   "metadata": {},
   "outputs": [
    {
     "name": "stderr",
     "output_type": "stream",
     "text": [
      "C:\\Users\\vseli\\anaconda3\\lib\\site-packages\\sklearn\\linear_model\\_logistic.py:814: ConvergenceWarning: lbfgs failed to converge (status=1):\n",
      "STOP: TOTAL NO. of ITERATIONS REACHED LIMIT.\n",
      "\n",
      "Increase the number of iterations (max_iter) or scale the data as shown in:\n",
      "    https://scikit-learn.org/stable/modules/preprocessing.html\n",
      "Please also refer to the documentation for alternative solver options:\n",
      "    https://scikit-learn.org/stable/modules/linear_model.html#logistic-regression\n",
      "  n_iter_i = _check_optimize_result(\n"
     ]
    },
    {
     "data": {
      "text/plain": [
       "LogisticRegression(class_weight='balanced', random_state=56789)"
      ]
     },
     "execution_count": 16,
     "metadata": {},
     "output_type": "execute_result"
    }
   ],
   "source": [
    "model = LogisticRegression(random_state=56789)\n",
    "model.fit(features_train,target_train)"
   ]
  },
  {
   "cell_type": "code",
   "execution_count": 17,
   "id": "1644827f",
   "metadata": {},
   "outputs": [
    {
     "data": {
      "text/plain": [
       "0.753982128982129"
      ]
     },
     "execution_count": 17,
     "metadata": {},
     "output_type": "execute_result"
    }
   ],
   "source": [
    "pred = model.predict(features_valid)\n",
    "f1_score(target_valid,pred,average='micro')"
   ]
  },
  {
   "cell_type": "markdown",
   "id": "a228a3f4",
   "metadata": {},
   "source": [
    "## Предсказания для тестовых данных."
   ]
  },
  {
   "cell_type": "code",
   "execution_count": 18,
   "id": "cdcd3e83",
   "metadata": {
    "scrolled": true
   },
   "outputs": [
    {
     "name": "stdout",
     "output_type": "stream",
     "text": [
      "<class 'pandas.core.frame.DataFrame'>\n",
      "RangeIndex: 17220 entries, 0 to 17219\n",
      "Data columns (total 4 columns):\n",
      " #   Column      Non-Null Count  Dtype \n",
      "---  ------      --------------  ----- \n",
      " 0   Unnamed: 0  17220 non-null  int64 \n",
      " 1   bank        17220 non-null  object\n",
      " 2   feeds       17220 non-null  object\n",
      " 3   date        17220 non-null  object\n",
      "dtypes: int64(1), object(3)\n",
      "memory usage: 538.2+ KB\n"
     ]
    }
   ],
   "source": [
    "data_test = pd.read_csv('C:/Users/vseli/Downloads/hse-nlp-bootcamp/new_test_ml.csv')\n",
    "data_test.info()"
   ]
  },
  {
   "cell_type": "code",
   "execution_count": 19,
   "id": "d91e1238",
   "metadata": {},
   "outputs": [],
   "source": [
    "data_test['feeds'] = data_test['feeds'].str.lower()"
   ]
  },
  {
   "cell_type": "code",
   "execution_count": 20,
   "id": "d6c95bbf",
   "metadata": {},
   "outputs": [],
   "source": [
    "data_test['feeds'] = data_test['feeds'].apply(str)\n",
    "data_test['feeds'] = data_test.feeds.apply(clear_text)"
   ]
  },
  {
   "cell_type": "code",
   "execution_count": 21,
   "id": "54a3a862",
   "metadata": {},
   "outputs": [
    {
     "data": {
      "text/plain": [
       "<17220x2254189 sparse matrix of type '<class 'numpy.float64'>'\n",
       "\twith 1932620 stored elements in Compressed Sparse Row format>"
      ]
     },
     "execution_count": 21,
     "metadata": {},
     "output_type": "execute_result"
    }
   ],
   "source": [
    "feature_test = data_test['feeds']\n",
    "feature_test = vec.transform(feature_test)\n",
    "feature_test"
   ]
  },
  {
   "cell_type": "code",
   "execution_count": 109,
   "id": "a1bb6519",
   "metadata": {},
   "outputs": [
    {
     "data": {
      "text/plain": [
       "array([1., 1., 1., ..., 1., 1., 1.])"
      ]
     },
     "execution_count": 109,
     "metadata": {},
     "output_type": "execute_result"
    }
   ],
   "source": [
    "pred_test = model.predict(feature_test)\n",
    "pred_test"
   ]
  },
  {
   "cell_type": "code",
   "execution_count": 110,
   "id": "3c3e8ceb",
   "metadata": {},
   "outputs": [],
   "source": [
    "pred_test = pd.DataFrame(pred_test)\n",
    "pred_test = pred_test.astype(int)"
   ]
  },
  {
   "cell_type": "code",
   "execution_count": 111,
   "id": "5e8534aa",
   "metadata": {},
   "outputs": [
    {
     "name": "stdout",
     "output_type": "stream",
     "text": [
      "Saved file: submission.csv\n"
     ]
    }
   ],
   "source": [
    "filename = 'submission.csv'\n",
    "pred_test.to_csv(filename,index=False)\n",
    "print('Saved file: ' + filename)"
   ]
  },
  {
   "cell_type": "code",
   "execution_count": 112,
   "id": "307db96a",
   "metadata": {},
   "outputs": [],
   "source": [
    "subm = pd.read_csv('C:/Users/vseli/Downloads/submission.csv')"
   ]
  },
  {
   "cell_type": "code",
   "execution_count": 113,
   "id": "00a5f87d",
   "metadata": {},
   "outputs": [],
   "source": [
    "subm = subm.rename(columns={\"0\": \"grades\"})"
   ]
  },
  {
   "cell_type": "code",
   "execution_count": 114,
   "id": "174589f7",
   "metadata": {},
   "outputs": [],
   "source": [
    "subm.index.name = 'inds'"
   ]
  },
  {
   "cell_type": "code",
   "execution_count": 115,
   "id": "f28d1430",
   "metadata": {},
   "outputs": [
    {
     "data": {
      "text/html": [
       "<div>\n",
       "<style scoped>\n",
       "    .dataframe tbody tr th:only-of-type {\n",
       "        vertical-align: middle;\n",
       "    }\n",
       "\n",
       "    .dataframe tbody tr th {\n",
       "        vertical-align: top;\n",
       "    }\n",
       "\n",
       "    .dataframe thead th {\n",
       "        text-align: right;\n",
       "    }\n",
       "</style>\n",
       "<table border=\"1\" class=\"dataframe\">\n",
       "  <thead>\n",
       "    <tr style=\"text-align: right;\">\n",
       "      <th></th>\n",
       "      <th>grades</th>\n",
       "    </tr>\n",
       "    <tr>\n",
       "      <th>inds</th>\n",
       "      <th></th>\n",
       "    </tr>\n",
       "  </thead>\n",
       "  <tbody>\n",
       "    <tr>\n",
       "      <th>0</th>\n",
       "      <td>1</td>\n",
       "    </tr>\n",
       "    <tr>\n",
       "      <th>1</th>\n",
       "      <td>1</td>\n",
       "    </tr>\n",
       "    <tr>\n",
       "      <th>2</th>\n",
       "      <td>1</td>\n",
       "    </tr>\n",
       "    <tr>\n",
       "      <th>3</th>\n",
       "      <td>1</td>\n",
       "    </tr>\n",
       "    <tr>\n",
       "      <th>4</th>\n",
       "      <td>1</td>\n",
       "    </tr>\n",
       "    <tr>\n",
       "      <th>...</th>\n",
       "      <td>...</td>\n",
       "    </tr>\n",
       "    <tr>\n",
       "      <th>17215</th>\n",
       "      <td>1</td>\n",
       "    </tr>\n",
       "    <tr>\n",
       "      <th>17216</th>\n",
       "      <td>1</td>\n",
       "    </tr>\n",
       "    <tr>\n",
       "      <th>17217</th>\n",
       "      <td>1</td>\n",
       "    </tr>\n",
       "    <tr>\n",
       "      <th>17218</th>\n",
       "      <td>1</td>\n",
       "    </tr>\n",
       "    <tr>\n",
       "      <th>17219</th>\n",
       "      <td>1</td>\n",
       "    </tr>\n",
       "  </tbody>\n",
       "</table>\n",
       "<p>17220 rows × 1 columns</p>\n",
       "</div>"
      ],
      "text/plain": [
       "       grades\n",
       "inds         \n",
       "0           1\n",
       "1           1\n",
       "2           1\n",
       "3           1\n",
       "4           1\n",
       "...       ...\n",
       "17215       1\n",
       "17216       1\n",
       "17217       1\n",
       "17218       1\n",
       "17219       1\n",
       "\n",
       "[17220 rows x 1 columns]"
      ]
     },
     "execution_count": 115,
     "metadata": {},
     "output_type": "execute_result"
    }
   ],
   "source": [
    "subm"
   ]
  },
  {
   "cell_type": "code",
   "execution_count": 116,
   "id": "dcc340fc",
   "metadata": {},
   "outputs": [
    {
     "name": "stdout",
     "output_type": "stream",
     "text": [
      "Saved file: submission_me.csv\n"
     ]
    }
   ],
   "source": [
    "filename = 'submission_me.csv'\n",
    "subm.to_csv(filename,index=True)\n",
    "print('Saved file: ' + filename)"
   ]
  },
  {
   "cell_type": "code",
   "execution_count": null,
   "id": "79ab5f9c",
   "metadata": {},
   "outputs": [],
   "source": []
  }
 ],
 "metadata": {
  "kernelspec": {
   "display_name": "Python 3 (ipykernel)",
   "language": "python",
   "name": "python3"
  },
  "language_info": {
   "codemirror_mode": {
    "name": "ipython",
    "version": 3
   },
   "file_extension": ".py",
   "mimetype": "text/x-python",
   "name": "python",
   "nbconvert_exporter": "python",
   "pygments_lexer": "ipython3",
   "version": "3.9.12"
  },
  "toc-autonumbering": false
 },
 "nbformat": 4,
 "nbformat_minor": 5
}
